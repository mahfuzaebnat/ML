{
  "nbformat": 4,
  "nbformat_minor": 0,
  "metadata": {
    "colab": {
      "name": "ML_Project.ipynb",
      "provenance": [],
      "collapsed_sections": [],
      "authorship_tag": "ABX9TyNZwXKJw8MzTRd14+YijnIa",
      "include_colab_link": true
    },
    "kernelspec": {
      "name": "python3",
      "display_name": "Python 3"
    },
    "language_info": {
      "name": "python"
    },
    "accelerator": "GPU"
  },
  "cells": [
    {
      "cell_type": "markdown",
      "metadata": {
        "id": "view-in-github",
        "colab_type": "text"
      },
      "source": [
        "<a href=\"https://colab.research.google.com/github/mahfuzaebnat/ML/blob/main/ML_Project.ipynb\" target=\"_parent\"><img src=\"https://colab.research.google.com/assets/colab-badge.svg\" alt=\"Open In Colab\"/></a>"
      ]
    },
    {
      "cell_type": "markdown",
      "source": [
        "Name: Mahfuza Ebnat Disha"
      ],
      "metadata": {
        "id": "pH-Zyk77UHAb"
      }
    },
    {
      "cell_type": "code",
      "source": [
        "import os\n",
        "import pandas as pd\n",
        "from pandas import DataFrame\n",
        "from google.colab import drive"
      ],
      "metadata": {
        "id": "QHf2F2MwUEVv"
      },
      "execution_count": null,
      "outputs": []
    },
    {
      "cell_type": "code",
      "source": [
        "drive.mount('/content/gdrive')"
      ],
      "metadata": {
        "id": "UqW0sArv2lZ2",
        "colab": {
          "base_uri": "https://localhost:8080/"
        },
        "outputId": "960e333a-92c0-436c-add5-f021141a0191"
      },
      "execution_count": null,
      "outputs": [
        {
          "output_type": "stream",
          "name": "stdout",
          "text": [
            "Drive already mounted at /content/gdrive; to attempt to forcibly remount, call drive.mount(\"/content/gdrive\", force_remount=True).\n"
          ]
        }
      ]
    },
    {
      "cell_type": "code",
      "source": [
        "data_path=os.path.join(os.getcwd(),'/content/gdrive/My Drive/Github_Project/Data_set.csv')"
      ],
      "metadata": {
        "id": "dakKVnZs2sgq"
      },
      "execution_count": null,
      "outputs": []
    },
    {
      "cell_type": "markdown",
      "source": [
        "Basic - Data set [8 exercises with solution]"
      ],
      "metadata": {
        "id": "vWDrtwp8RQDe"
      }
    },
    {
      "cell_type": "markdown",
      "source": [
        "1. Write a Python program to load the iris data from a given csv file into a dataframe and print the shape of the data, type of the data and first 3 rows."
      ],
      "metadata": {
        "id": "DeAcp-9HN5bJ"
      }
    },
    {
      "cell_type": "code",
      "source": [
        "\n",
        "data = pd.read_csv(data_path)\n",
        "print(\"Shape of the data:\")\n",
        "print(data.shape)\n",
        "\n",
        "print(\"\\nFirst 3 rows:\")\n",
        "print(data.head(3))\n"
      ],
      "metadata": {
        "colab": {
          "base_uri": "https://localhost:8080/"
        },
        "id": "YJ15xsxiKDrT",
        "outputId": "9e9004ce-bc2f-42ec-a218-4f3a38ad7bc2"
      },
      "execution_count": null,
      "outputs": [
        {
          "output_type": "stream",
          "name": "stdout",
          "text": [
            "Shape of the data:\n",
            "(217, 13)\n",
            "\n",
            "First 3 rows:\n",
            "  Series_reference   Period  Data_value Suppressed STATUS   UNITS  Magnitude  \\\n",
            "0      BDCQ.SEA1AA  2011.06     80078.0        NaN      F  Number          0   \n",
            "1      BDCQ.SEA1AA  2011.09     78324.0        NaN      F  Number          0   \n",
            "2      BDCQ.SEA1AA  2011.12     85850.0        NaN      F  Number          0   \n",
            "\n",
            "                          Subject                            Group  \\\n",
            "0  Business Data Collection - BDC  Industry by employment variable   \n",
            "1  Business Data Collection - BDC  Industry by employment variable   \n",
            "2  Business Data Collection - BDC  Industry by employment variable   \n",
            "\n",
            "  Series_title_1                     Series_title_2 Series_title_3  \\\n",
            "0    Filled jobs  Agriculture, Forestry and Fishing         Actual   \n",
            "1    Filled jobs  Agriculture, Forestry and Fishing         Actual   \n",
            "2    Filled jobs  Agriculture, Forestry and Fishing         Actual   \n",
            "\n",
            "   Unnamed: 12  \n",
            "0          NaN  \n",
            "1          NaN  \n",
            "2          NaN  \n"
          ]
        }
      ]
    },
    {
      "cell_type": "markdown",
      "source": [
        "2. Write a Python program using Scikit-learn to print the keys, number of rows-columns, feature names and the description of the  data-set."
      ],
      "metadata": {
        "id": "vwp-OQJAN-Gt"
      }
    },
    {
      "cell_type": "code",
      "source": [
        "\n",
        "data = pd.read_csv(data_path)\n",
        "print(\"\\nKeys of Iris dataset:\")\n",
        "print(data.keys())\n",
        "print(\"\\nNumber of rows and columns of Iris dataset:\")\n",
        "print(data.shape) "
      ],
      "metadata": {
        "colab": {
          "base_uri": "https://localhost:8080/"
        },
        "id": "ueOknVDKOBCm",
        "outputId": "e2eeb6be-dbc1-4650-c88b-ab75a5b961b7"
      },
      "execution_count": null,
      "outputs": [
        {
          "output_type": "stream",
          "name": "stdout",
          "text": [
            "\n",
            "Keys of Iris dataset:\n",
            "Index(['Series_reference', 'Period', 'Data_value', 'Suppressed', 'STATUS',\n",
            "       'UNITS', 'Magnitude', 'Subject', 'Group', 'Series_title_1',\n",
            "       'Series_title_2', 'Series_title_3', 'Unnamed: 12'],\n",
            "      dtype='object')\n",
            "\n",
            "Number of rows and columns of Iris dataset:\n",
            "(217, 13)\n"
          ]
        }
      ]
    },
    {
      "cell_type": "markdown",
      "source": [
        "3.Write a Python program to get the number of observations, missing values and nan values. "
      ],
      "metadata": {
        "id": "-7A6a_aiOOru"
      }
    },
    {
      "cell_type": "code",
      "source": [
        "\n",
        "data = pd.read_csv(data_path)\n",
        "print(data.info())"
      ],
      "metadata": {
        "colab": {
          "base_uri": "https://localhost:8080/"
        },
        "id": "HfA910ZAOUWf",
        "outputId": "c24bc324-79c1-4b65-ee9b-dccf643fc1d2"
      },
      "execution_count": null,
      "outputs": [
        {
          "output_type": "stream",
          "name": "stdout",
          "text": [
            "<class 'pandas.core.frame.DataFrame'>\n",
            "RangeIndex: 217 entries, 0 to 216\n",
            "Data columns (total 13 columns):\n",
            " #   Column            Non-Null Count  Dtype  \n",
            "---  ------            --------------  -----  \n",
            " 0   Series_reference  216 non-null    object \n",
            " 1   Period            217 non-null    float64\n",
            " 2   Data_value        168 non-null    float64\n",
            " 3   Suppressed        49 non-null     object \n",
            " 4   STATUS            217 non-null    object \n",
            " 5   UNITS             217 non-null    object \n",
            " 6   Magnitude         217 non-null    int64  \n",
            " 7   Subject           217 non-null    object \n",
            " 8   Group             217 non-null    object \n",
            " 9   Series_title_1    217 non-null    object \n",
            " 10  Series_title_2    217 non-null    object \n",
            " 11  Series_title_3    217 non-null    object \n",
            " 12  Unnamed: 12       0 non-null      float64\n",
            "dtypes: float64(3), int64(1), object(9)\n",
            "memory usage: 22.2+ KB\n",
            "None\n"
          ]
        }
      ]
    },
    {
      "cell_type": "markdown",
      "source": [
        "4. Write a Python program to create a 2-D array with ones on the diagonal and zeros elsewhere. Now convert the NumPy array to a SciPy sparse matrix in CSR format.\n"
      ],
      "metadata": {
        "id": "uEpP_F9nOdPY"
      }
    },
    {
      "cell_type": "code",
      "source": [
        "import numpy as np\n",
        "from scipy import sparse\n",
        "eye = np.eye(4)\n",
        "print(\"NumPy array:\\n\", eye)\n",
        "sparse_matrix = sparse.csr_matrix(eye)\n",
        "print(\"\\nSciPy sparse CSR matrix:\\n\", sparse_matrix)"
      ],
      "metadata": {
        "colab": {
          "base_uri": "https://localhost:8080/"
        },
        "id": "1aiqCxvPPsGP",
        "outputId": "5286d6e0-eb2b-4504-e475-fd0dbe49e99d"
      },
      "execution_count": null,
      "outputs": [
        {
          "output_type": "stream",
          "name": "stdout",
          "text": [
            "NumPy array:\n",
            " [[1. 0. 0. 0.]\n",
            " [0. 1. 0. 0.]\n",
            " [0. 0. 1. 0.]\n",
            " [0. 0. 0. 1.]]\n",
            "\n",
            "SciPy sparse CSR matrix:\n",
            "   (0, 0)\t1.0\n",
            "  (1, 1)\t1.0\n",
            "  (2, 2)\t1.0\n",
            "  (3, 3)\t1.0\n"
          ]
        }
      ]
    },
    {
      "cell_type": "markdown",
      "source": [
        "5. Write a Python program to view basic statistical details like percentile, mean, std etc. of iris data."
      ],
      "metadata": {
        "id": "2fw7YYgNP_Jw"
      }
    },
    {
      "cell_type": "code",
      "source": [
        "import pandas as pd\n",
        "data = pd.read_csv(data_path)\n",
        "print(data.describe())"
      ],
      "metadata": {
        "colab": {
          "base_uri": "https://localhost:8080/"
        },
        "id": "41K1YKIXQCLW",
        "outputId": "89e8bb14-812b-4bcc-a829-484088c841bb"
      },
      "execution_count": null,
      "outputs": [
        {
          "output_type": "stream",
          "name": "stdout",
          "text": [
            "            Period     Data_value  Magnitude  Unnamed: 12\n",
            "count   217.000000     168.000000      217.0          0.0\n",
            "mean   2015.932350   48532.011905        0.0          NaN\n",
            "std       3.103066   43451.233515        0.0          NaN\n",
            "min    2011.060000    5060.000000        0.0          NaN\n",
            "25%    2013.090000    5370.000000        0.0          NaN\n",
            "50%    2016.060000   42164.000000        0.0          NaN\n",
            "75%    2019.030000   92245.250000        0.0          NaN\n",
            "max    2021.090000  102338.000000        0.0          NaN\n"
          ]
        }
      ]
    },
    {
      "cell_type": "markdown",
      "source": [
        "6. Write a Python program to get observations of each species (setosa, versicolor, virginica) from iris data."
      ],
      "metadata": {
        "id": "fKVe1aZlQO4d"
      }
    },
    {
      "cell_type": "code",
      "source": [
        "import pandas as pd\n",
        "data = pd.read_csv(data_path)\n",
        "print(\"Observations of each species:\")\n",
        "print(data['Period'].value_counts()) "
      ],
      "metadata": {
        "colab": {
          "base_uri": "https://localhost:8080/"
        },
        "id": "HEozoAziQRU9",
        "outputId": "aa7347b1-0380-40b5-9864-96c86a77a511"
      },
      "execution_count": null,
      "outputs": [
        {
          "output_type": "stream",
          "name": "stdout",
          "text": [
            "Observations of each species:\n",
            "2011.06    6\n",
            "2011.12    6\n",
            "2012.03    6\n",
            "2012.06    6\n",
            "2012.09    6\n",
            "2012.12    6\n",
            "2011.09    6\n",
            "2019.06    5\n",
            "2017.12    5\n",
            "2018.03    5\n",
            "2018.06    5\n",
            "2018.09    5\n",
            "2018.12    5\n",
            "2019.03    5\n",
            "2020.03    5\n",
            "2019.09    5\n",
            "2019.12    5\n",
            "2017.06    5\n",
            "2020.06    5\n",
            "2020.09    5\n",
            "2020.12    5\n",
            "2021.03    5\n",
            "2021.06    5\n",
            "2017.09    5\n",
            "2016.09    5\n",
            "2017.03    5\n",
            "2014.09    5\n",
            "2013.03    5\n",
            "2013.06    5\n",
            "2013.09    5\n",
            "2013.12    5\n",
            "2014.03    5\n",
            "2014.06    5\n",
            "2014.12    5\n",
            "2016.12    5\n",
            "2015.03    5\n",
            "2015.06    5\n",
            "2015.09    5\n",
            "2015.12    5\n",
            "2016.03    5\n",
            "2016.06    5\n",
            "2021.09    5\n",
            "Name: Period, dtype: int64\n"
          ]
        }
      ]
    },
    {
      "cell_type": "markdown",
      "source": [
        "7.Write a Python program to drop Id column from a given Dataframe and print the modified part. Call iris.csv to create the Dataframe."
      ],
      "metadata": {
        "id": "NwQe2J8IQomf"
      }
    },
    {
      "cell_type": "code",
      "source": [
        "import pandas as pd\n",
        "data =pd.read_csv(data_path)\n",
        "print(\"Original Data:\")\n",
        "print(data.head())\n",
        "new_data = data.drop('Period',axis=1)\n",
        "print(\"After removing id column:\")\n",
        "print(new_data.head()) "
      ],
      "metadata": {
        "colab": {
          "base_uri": "https://localhost:8080/"
        },
        "id": "nI0nITE5Qsy4",
        "outputId": "aae9b80a-2440-448f-d421-8b7e942de434"
      },
      "execution_count": null,
      "outputs": [
        {
          "output_type": "stream",
          "name": "stdout",
          "text": [
            "Original Data:\n",
            "  Series_reference   Period  Data_value Suppressed STATUS   UNITS  Magnitude  \\\n",
            "0      BDCQ.SEA1AA  2011.06     80078.0        NaN      F  Number          0   \n",
            "1      BDCQ.SEA1AA  2011.09     78324.0        NaN      F  Number          0   \n",
            "2      BDCQ.SEA1AA  2011.12     85850.0        NaN      F  Number          0   \n",
            "3      BDCQ.SEA1AA  2012.03     90743.0        NaN      F  Number          0   \n",
            "4      BDCQ.SEA1AA  2012.06     81780.0        NaN      F  Number          0   \n",
            "\n",
            "                          Subject                            Group  \\\n",
            "0  Business Data Collection - BDC  Industry by employment variable   \n",
            "1  Business Data Collection - BDC  Industry by employment variable   \n",
            "2  Business Data Collection - BDC  Industry by employment variable   \n",
            "3  Business Data Collection - BDC  Industry by employment variable   \n",
            "4  Business Data Collection - BDC  Industry by employment variable   \n",
            "\n",
            "  Series_title_1                     Series_title_2 Series_title_3  \\\n",
            "0    Filled jobs  Agriculture, Forestry and Fishing         Actual   \n",
            "1    Filled jobs  Agriculture, Forestry and Fishing         Actual   \n",
            "2    Filled jobs  Agriculture, Forestry and Fishing         Actual   \n",
            "3    Filled jobs  Agriculture, Forestry and Fishing         Actual   \n",
            "4    Filled jobs  Agriculture, Forestry and Fishing         Actual   \n",
            "\n",
            "   Unnamed: 12  \n",
            "0          NaN  \n",
            "1          NaN  \n",
            "2          NaN  \n",
            "3          NaN  \n",
            "4          NaN  \n",
            "After removing id column:\n",
            "  Series_reference  Data_value Suppressed STATUS   UNITS  Magnitude  \\\n",
            "0      BDCQ.SEA1AA     80078.0        NaN      F  Number          0   \n",
            "1      BDCQ.SEA1AA     78324.0        NaN      F  Number          0   \n",
            "2      BDCQ.SEA1AA     85850.0        NaN      F  Number          0   \n",
            "3      BDCQ.SEA1AA     90743.0        NaN      F  Number          0   \n",
            "4      BDCQ.SEA1AA     81780.0        NaN      F  Number          0   \n",
            "\n",
            "                          Subject                            Group  \\\n",
            "0  Business Data Collection - BDC  Industry by employment variable   \n",
            "1  Business Data Collection - BDC  Industry by employment variable   \n",
            "2  Business Data Collection - BDC  Industry by employment variable   \n",
            "3  Business Data Collection - BDC  Industry by employment variable   \n",
            "4  Business Data Collection - BDC  Industry by employment variable   \n",
            "\n",
            "  Series_title_1                     Series_title_2 Series_title_3  \\\n",
            "0    Filled jobs  Agriculture, Forestry and Fishing         Actual   \n",
            "1    Filled jobs  Agriculture, Forestry and Fishing         Actual   \n",
            "2    Filled jobs  Agriculture, Forestry and Fishing         Actual   \n",
            "3    Filled jobs  Agriculture, Forestry and Fishing         Actual   \n",
            "4    Filled jobs  Agriculture, Forestry and Fishing         Actual   \n",
            "\n",
            "   Unnamed: 12  \n",
            "0          NaN  \n",
            "1          NaN  \n",
            "2          NaN  \n",
            "3          NaN  \n",
            "4          NaN  \n"
          ]
        }
      ]
    },
    {
      "cell_type": "markdown",
      "source": [
        "8. Write a Python program to access first four cells from a given Dataframe using the index and column labels. Call iris.csv to create the Dataframe."
      ],
      "metadata": {
        "id": "ctzTKB-sQ5Cf"
      }
    },
    {
      "cell_type": "code",
      "source": [
        "import pandas as pd\n",
        "data = pd.read_csv(data_path)\n",
        "print(\"Original Data:\")\n",
        "print(data.head())\n",
        "new_data = data.drop('Period',axis=1)\n",
        "print(\"After removing id column:\")\n",
        "print(new_data.head())\n",
        "x = data.iloc[:, [1, 2, 3, 4]].values\n",
        "print(x) "
      ],
      "metadata": {
        "colab": {
          "base_uri": "https://localhost:8080/"
        },
        "id": "Uvj_MEd1Q7qO",
        "outputId": "7a3ab57b-ae2c-44a1-9741-fb8163046a36"
      },
      "execution_count": null,
      "outputs": [
        {
          "output_type": "stream",
          "name": "stdout",
          "text": [
            "Original Data:\n",
            "  Series_reference   Period  Data_value Suppressed STATUS   UNITS  Magnitude  \\\n",
            "0      BDCQ.SEA1AA  2011.06     80078.0        NaN      F  Number          0   \n",
            "1      BDCQ.SEA1AA  2011.09     78324.0        NaN      F  Number          0   \n",
            "2      BDCQ.SEA1AA  2011.12     85850.0        NaN      F  Number          0   \n",
            "3      BDCQ.SEA1AA  2012.03     90743.0        NaN      F  Number          0   \n",
            "4      BDCQ.SEA1AA  2012.06     81780.0        NaN      F  Number          0   \n",
            "\n",
            "                          Subject                            Group  \\\n",
            "0  Business Data Collection - BDC  Industry by employment variable   \n",
            "1  Business Data Collection - BDC  Industry by employment variable   \n",
            "2  Business Data Collection - BDC  Industry by employment variable   \n",
            "3  Business Data Collection - BDC  Industry by employment variable   \n",
            "4  Business Data Collection - BDC  Industry by employment variable   \n",
            "\n",
            "  Series_title_1                     Series_title_2 Series_title_3  \\\n",
            "0    Filled jobs  Agriculture, Forestry and Fishing         Actual   \n",
            "1    Filled jobs  Agriculture, Forestry and Fishing         Actual   \n",
            "2    Filled jobs  Agriculture, Forestry and Fishing         Actual   \n",
            "3    Filled jobs  Agriculture, Forestry and Fishing         Actual   \n",
            "4    Filled jobs  Agriculture, Forestry and Fishing         Actual   \n",
            "\n",
            "   Unnamed: 12  \n",
            "0          NaN  \n",
            "1          NaN  \n",
            "2          NaN  \n",
            "3          NaN  \n",
            "4          NaN  \n",
            "After removing id column:\n",
            "  Series_reference  Data_value Suppressed STATUS   UNITS  Magnitude  \\\n",
            "0      BDCQ.SEA1AA     80078.0        NaN      F  Number          0   \n",
            "1      BDCQ.SEA1AA     78324.0        NaN      F  Number          0   \n",
            "2      BDCQ.SEA1AA     85850.0        NaN      F  Number          0   \n",
            "3      BDCQ.SEA1AA     90743.0        NaN      F  Number          0   \n",
            "4      BDCQ.SEA1AA     81780.0        NaN      F  Number          0   \n",
            "\n",
            "                          Subject                            Group  \\\n",
            "0  Business Data Collection - BDC  Industry by employment variable   \n",
            "1  Business Data Collection - BDC  Industry by employment variable   \n",
            "2  Business Data Collection - BDC  Industry by employment variable   \n",
            "3  Business Data Collection - BDC  Industry by employment variable   \n",
            "4  Business Data Collection - BDC  Industry by employment variable   \n",
            "\n",
            "  Series_title_1                     Series_title_2 Series_title_3  \\\n",
            "0    Filled jobs  Agriculture, Forestry and Fishing         Actual   \n",
            "1    Filled jobs  Agriculture, Forestry and Fishing         Actual   \n",
            "2    Filled jobs  Agriculture, Forestry and Fishing         Actual   \n",
            "3    Filled jobs  Agriculture, Forestry and Fishing         Actual   \n",
            "4    Filled jobs  Agriculture, Forestry and Fishing         Actual   \n",
            "\n",
            "   Unnamed: 12  \n",
            "0          NaN  \n",
            "1          NaN  \n",
            "2          NaN  \n",
            "3          NaN  \n",
            "4          NaN  \n",
            "[[2011.06 80078.0 nan 'F']\n",
            " [2011.09 78324.0 nan 'F']\n",
            " [2011.12 85850.0 nan 'F']\n",
            " [2012.03 90743.0 nan 'F']\n",
            " [2012.06 81780.0 nan 'F']\n",
            " [2012.09 79261.0 nan 'F']\n",
            " [2012.12 87793.0 nan 'F']\n",
            " [2013.03 91571.0 nan 'F']\n",
            " [2013.06 81687.0 nan 'F']\n",
            " [2013.09 81471.0 nan 'F']\n",
            " [2013.12 93950.0 nan 'F']\n",
            " [2014.03 97208.0 nan 'F']\n",
            " [2014.06 85879.0 nan 'F']\n",
            " [2014.09 84447.0 nan 'F']\n",
            " [2014.12 95075.0 nan 'F']\n",
            " [2015.03 98202.0 nan 'F']\n",
            " [2015.06 87987.0 nan 'F']\n",
            " [2015.09 84529.0 nan 'F']\n",
            " [2015.12 96848.0 nan 'F']\n",
            " [2016.03 99291.0 nan 'F']\n",
            " [2016.06 88716.0 nan 'F']\n",
            " [2016.09 85933.0 nan 'F']\n",
            " [2016.12 96540.0 nan 'F']\n",
            " [2017.03 98994.0 nan 'F']\n",
            " [2017.06 90510.0 nan 'F']\n",
            " [2017.09 87089.0 nan 'F']\n",
            " [2017.12 98933.0 nan 'F']\n",
            " [2018.03 101168.0 nan 'F']\n",
            " [2018.06 90766.0 nan 'F']\n",
            " [2018.09 86929.0 nan 'F']\n",
            " [2018.12 100290.0 nan 'F']\n",
            " [2019.03 102031.0 nan 'F']\n",
            " [2019.06 90836.0 nan 'F']\n",
            " [2019.09 88032.0 nan 'F']\n",
            " [2019.12 100531.0 nan 'F']\n",
            " [2020.03 100947.0 nan 'F']\n",
            " [2020.06 93239.0 nan 'F']\n",
            " [2020.09 92891.0 nan 'F']\n",
            " [2020.12 102338.0 nan 'F']\n",
            " [2021.03 101032.0 nan 'F']\n",
            " [2021.06 92929.0 nan 'F']\n",
            " [2021.09 91374.0 nan 'F']\n",
            " [2011.06 83974.0 nan 'R']\n",
            " [2011.09 84191.0 nan 'R']\n",
            " [2011.12 82507.0 nan 'R']\n",
            " [2012.03 84367.0 nan 'R']\n",
            " [2012.06 85742.0 nan 'R']\n",
            " [2012.09 85251.0 nan 'R']\n",
            " [2012.12 84318.0 nan 'R']\n",
            " [2013.03 85167.0 nan 'R']\n",
            " [2013.06 85612.0 nan 'R']\n",
            " [2013.09 87717.0 nan 'R']\n",
            " [2013.12 90127.0 nan 'R']\n",
            " [2014.03 90486.0 nan 'R']\n",
            " [2014.06 89917.0 nan 'R']\n",
            " [2014.09 91070.0 nan 'R']\n",
            " [2014.12 91054.0 nan 'R']\n",
            " [2015.03 91530.0 nan 'R']\n",
            " [2015.06 92008.0 nan 'R']\n",
            " [2015.09 91297.0 nan 'R']\n",
            " [2015.12 92603.0 nan 'R']\n",
            " [2016.03 92687.0 nan 'R']\n",
            " [2016.06 92644.0 nan 'R']\n",
            " [2016.09 92943.0 nan 'R']\n",
            " [2016.12 92126.0 nan 'R']\n",
            " [2017.03 92625.0 nan 'R']\n",
            " [2017.06 94390.0 nan 'R']\n",
            " [2017.09 94244.0 nan 'R']\n",
            " [2017.12 94209.0 nan 'R']\n",
            " [2018.03 94946.0 nan 'R']\n",
            " [2018.06 94574.0 nan 'R']\n",
            " [2018.09 94022.0 nan 'R']\n",
            " [2018.12 95287.0 nan 'R']\n",
            " [2019.03 96090.0 nan 'R']\n",
            " [2019.06 94621.0 nan 'R']\n",
            " [2019.09 95072.0 nan 'R']\n",
            " [2019.12 95336.0 nan 'R']\n",
            " [2020.03 95374.0 nan 'R']\n",
            " [2020.06 97143.0 nan 'R']\n",
            " [2020.09 100121.0 nan 'R']\n",
            " [2020.12 96930.0 nan 'R']\n",
            " [2021.03 95708.0 nan 'R']\n",
            " [2021.06 96821.0 nan 'R']\n",
            " [2021.09 98327.0 nan 'F']\n",
            " [2011.06 nan 'Y' 'C']\n",
            " [2011.09 nan 'Y' 'C']\n",
            " [2011.12 nan 'Y' 'C']\n",
            " [2012.03 nan 'Y' 'C']\n",
            " [2012.06 nan 'Y' 'C']\n",
            " [2012.09 nan 'Y' 'C']\n",
            " [2012.12 nan 'Y' 'C']\n",
            " [2013.03 nan 'Y' 'C']\n",
            " [2013.06 nan 'Y' 'C']\n",
            " [2013.09 nan 'Y' 'C']\n",
            " [2013.12 nan 'Y' 'C']\n",
            " [2014.03 nan 'Y' 'C']\n",
            " [2014.06 nan 'Y' 'C']\n",
            " [2014.09 nan 'Y' 'C']\n",
            " [2014.12 nan 'Y' 'C']\n",
            " [2015.03 nan 'Y' 'C']\n",
            " [2015.06 nan 'Y' 'C']\n",
            " [2015.09 nan 'Y' 'C']\n",
            " [2015.12 nan 'Y' 'C']\n",
            " [2016.03 nan 'Y' 'C']\n",
            " [2016.06 nan 'Y' 'C']\n",
            " [2016.09 nan 'Y' 'C']\n",
            " [2016.12 nan 'Y' 'C']\n",
            " [2017.03 nan 'Y' 'C']\n",
            " [2017.06 nan 'Y' 'C']\n",
            " [2017.09 nan 'Y' 'C']\n",
            " [2017.12 nan 'Y' 'C']\n",
            " [2018.03 nan 'Y' 'C']\n",
            " [2018.06 nan 'Y' 'C']\n",
            " [2018.09 nan 'Y' 'C']\n",
            " [2018.12 nan 'Y' 'C']\n",
            " [2019.03 nan 'Y' 'C']\n",
            " [2019.06 nan 'Y' 'C']\n",
            " [2019.09 nan 'Y' 'C']\n",
            " [2019.12 nan 'Y' 'C']\n",
            " [2020.03 nan 'Y' 'C']\n",
            " [2020.06 nan 'Y' 'C']\n",
            " [2020.09 nan 'Y' 'C']\n",
            " [2020.12 nan 'Y' 'C']\n",
            " [2021.03 nan 'Y' 'C']\n",
            " [2021.06 nan 'Y' 'C']\n",
            " [2021.09 nan 'Y' 'C']\n",
            " [2011.06 5234.0 nan 'F']\n",
            " [2011.09 5268.0 nan 'F']\n",
            " [2011.12 5499.0 nan 'F']\n",
            " [2012.03 5811.0 nan 'F']\n",
            " [2012.06 5847.0 nan 'F']\n",
            " [2012.09 5922.0 nan 'F']\n",
            " [2012.12 5722.0 nan 'F']\n",
            " [2013.03 5487.0 nan 'F']\n",
            " [2013.06 5506.0 nan 'F']\n",
            " [2013.09 5540.0 nan 'F']\n",
            " [2013.12 5492.0 nan 'F']\n",
            " [2014.03 6004.0 nan 'F']\n",
            " [2014.06 5886.0 nan 'F']\n",
            " [2014.09 5815.0 nan 'F']\n",
            " [2014.12 5592.0 nan 'F']\n",
            " [2015.03 5300.0 nan 'F']\n",
            " [2015.06 5422.0 nan 'F']\n",
            " [2015.09 5199.0 nan 'F']\n",
            " [2015.12 5060.0 nan 'F']\n",
            " [2016.03 5194.0 nan 'F']\n",
            " [2016.06 5080.0 nan 'F']\n",
            " [2016.09 5129.0 nan 'F']\n",
            " [2016.12 5157.0 nan 'F']\n",
            " [2017.03 5264.0 nan 'F']\n",
            " [2017.06 5164.0 nan 'F']\n",
            " [2017.09 5208.0 nan 'F']\n",
            " [2017.12 5381.0 nan 'F']\n",
            " [2018.03 5370.0 nan 'F']\n",
            " [2018.06 5385.0 nan 'F']\n",
            " [2018.09 5461.0 nan 'F']\n",
            " [2018.12 5434.0 nan 'F']\n",
            " [2019.03 5437.0 nan 'F']\n",
            " [2019.06 5068.0 nan 'F']\n",
            " [2019.09 5370.0 nan 'F']\n",
            " [2019.12 5165.0 nan 'F']\n",
            " [2020.03 5267.0 nan 'F']\n",
            " [2020.06 5245.0 nan 'F']\n",
            " [2020.09 5318.0 nan 'F']\n",
            " [2020.12 5275.0 nan 'F']\n",
            " [2021.03 5394.0 nan 'F']\n",
            " [2021.06 5359.0 nan 'F']\n",
            " [2021.09 5358.0 nan 'F']\n",
            " [2011.06 5234.0 nan 'R']\n",
            " [2011.09 5268.0 nan 'R']\n",
            " [2011.12 5499.0 nan 'R']\n",
            " [2012.03 5811.0 nan 'R']\n",
            " [2012.06 5847.0 nan 'R']\n",
            " [2012.09 5922.0 nan 'R']\n",
            " [2012.12 5722.0 nan 'R']\n",
            " [2013.03 5487.0 nan 'R']\n",
            " [2013.06 5506.0 nan 'R']\n",
            " [2013.09 5540.0 nan 'R']\n",
            " [2013.12 5492.0 nan 'R']\n",
            " [2014.03 6004.0 nan 'R']\n",
            " [2014.06 5886.0 nan 'R']\n",
            " [2014.09 5815.0 nan 'R']\n",
            " [2014.12 5592.0 nan 'R']\n",
            " [2015.03 5300.0 nan 'R']\n",
            " [2015.06 5422.0 nan 'R']\n",
            " [2015.09 5199.0 nan 'R']\n",
            " [2015.12 5060.0 nan 'R']\n",
            " [2016.03 5194.0 nan 'R']\n",
            " [2016.06 5080.0 nan 'R']\n",
            " [2016.09 5129.0 nan 'R']\n",
            " [2016.12 5157.0 nan 'R']\n",
            " [2017.03 5264.0 nan 'R']\n",
            " [2017.06 5164.0 nan 'R']\n",
            " [2017.09 5208.0 nan 'R']\n",
            " [2017.12 5381.0 nan 'R']\n",
            " [2018.03 5370.0 nan 'R']\n",
            " [2018.06 5385.0 nan 'R']\n",
            " [2018.09 5461.0 nan 'R']\n",
            " [2018.12 5434.0 nan 'R']\n",
            " [2019.03 5437.0 nan 'R']\n",
            " [2019.06 5068.0 nan 'R']\n",
            " [2019.09 5370.0 nan 'R']\n",
            " [2019.12 5165.0 nan 'R']\n",
            " [2020.03 5267.0 nan 'R']\n",
            " [2020.06 5245.0 nan 'R']\n",
            " [2020.09 5318.0 nan 'R']\n",
            " [2020.12 5275.0 nan 'R']\n",
            " [2021.03 5394.0 nan 'R']\n",
            " [2021.06 5359.0 nan 'R']\n",
            " [2021.09 5358.0 nan 'F']\n",
            " [2011.06 nan 'Y' 'C']\n",
            " [2011.09 nan 'Y' 'C']\n",
            " [2011.12 nan 'Y' 'C']\n",
            " [2012.03 nan 'Y' 'C']\n",
            " [2012.06 nan 'Y' 'C']\n",
            " [2012.09 nan 'Y' 'C']\n",
            " [2012.12 nan 'Y' 'C']]\n"
          ]
        }
      ]
    },
    {
      "cell_type": "markdown",
      "source": [
        "Visualization - Data set [19 exercises with solution]"
      ],
      "metadata": {
        "id": "df2pjARKRJa2"
      }
    },
    {
      "cell_type": "markdown",
      "source": [
        "1. Write a Python program to create a plot to get a general Statistics of Iris data."
      ],
      "metadata": {
        "id": "R7yhEd8vRfJ9"
      }
    },
    {
      "cell_type": "code",
      "source": [
        "import pandas as pd\n",
        "import matplotlib.pyplot as plt\n",
        "data = pd.read_csv(data_path)\n",
        "data.describe().plot(kind = \"area\",fontsize=16, figsize = (15,8), table = True, colormap=\"Accent\")\n",
        "plt.xlabel('Statistics',)\n",
        "plt.ylabel('Value')\n",
        "plt.title(\"General Statistics of Iris Dataset\")\n",
        "plt.show()"
      ],
      "metadata": {
        "colab": {
          "base_uri": "https://localhost:8080/",
          "height": 542
        },
        "id": "4HQEmhtSRin1",
        "outputId": "75509f1a-dcbe-451d-91f3-bb1c85feeb01"
      },
      "execution_count": null,
      "outputs": [
        {
          "output_type": "display_data",
          "data": {
            "text/plain": [
              "<Figure size 1080x576 with 1 Axes>"
            ],
            "image/png": "[encoded data removed]"
          },
          "metadata": {
            "needs_background": "light"
          }
        }
      ]
    },
    {
      "cell_type": "markdown",
      "source": [
        "2. Write a Python program to create a Bar plot to get the frequency of the three species of the Iris data."
      ],
      "metadata": {
        "id": "qWmsOOXSRxeO"
      }
    },
    {
      "cell_type": "code",
      "source": [
        "import pandas as pd\n",
        "import seaborn as sns\n",
        "import matplotlib.pyplot as plt\n",
        "data = pd.read_csv(data_path)\n",
        "ax=plt.subplots(1,1,figsize=(10,8))\n",
        "sns.countplot('Period',data=data)\n",
        "plt.title(\"Period Count\")\n",
        "plt.show()"
      ],
      "metadata": {
        "colab": {
          "base_uri": "https://localhost:8080/",
          "height": 568
        },
        "id": "kSYVACWhR0Pf",
        "outputId": "c388a4df-4bc3-4b92-feb6-5ef1f98ac628"
      },
      "execution_count": null,
      "outputs": [
        {
          "output_type": "stream",
          "name": "stderr",
          "text": [
            "/usr/local/lib/python3.7/dist-packages/seaborn/_decorators.py:43: FutureWarning: Pass the following variable as a keyword arg: x. From version 0.12, the only valid positional argument will be `data`, and passing other arguments without an explicit keyword will result in an error or misinterpretation.\n",
            "  FutureWarning\n"
          ]
        },
        {
          "output_type": "display_data",
          "data": {
            "text/plain": [
              "<Figure size 720x576 with 1 Axes>"
            ],
            "image/png": "[encoded data removed]"
          },
          "metadata": {
            "needs_background": "light"
          }
        }
      ]
    },
    {
      "cell_type": "markdown",
      "source": [
        "3. Write a Python program to create a Pie plot to get the frequency of the three species of the Iris data."
      ],
      "metadata": {
        "id": "yhbteFULSEsE"
      }
    },
    {
      "cell_type": "code",
      "source": [
        "import pandas as pd\n",
        "import matplotlib.pyplot as plt\n",
        "data = pd.read_csv(data_path)\n",
        "ax=plt.subplots(1,1,figsize=(10,8))\n",
        "data['Series_title_3'].value_counts().plot.pie(explode=[0.1,0.1,0.1],autopct='%1.1f%%',shadow=True,figsize=(10,8))\n",
        "plt.title(\"Series_title_3 %\")\n",
        "plt.show()"
      ],
      "metadata": {
        "colab": {
          "base_uri": "https://localhost:8080/",
          "height": 482
        },
        "id": "SNCQh3ciSIWO",
        "outputId": "d3e240c5-f533-490c-ae9f-6cfeed6e9cd8"
      },
      "execution_count": null,
      "outputs": [
        {
          "output_type": "display_data",
          "data": {
            "text/plain": [
              "<Figure size 720x576 with 1 Axes>"
            ],
            "image/png": "[encoded data removed]"
          },
          "metadata": {}
        }
      ]
    }
  ]
}